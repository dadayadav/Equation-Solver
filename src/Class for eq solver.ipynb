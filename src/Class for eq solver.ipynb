{
 "cells": [
  {
   "cell_type": "code",
   "execution_count": 3,
   "metadata": {},
   "outputs": [],
   "source": [
    "import sympy as sym\n",
    "        \n",
    "class model:\n",
    "    def __init__(self, no_equation):\n",
    "        self.no_equation = no_equation\n",
    "        self.variables = []\n",
    "        self.operation = []\n",
    "        self.equations = []\n",
    "        self.char2id = {}\n",
    "        \n",
    "    def add_variables(self, var):\n",
    "        for i in var:\n",
    "            self.variables.append(i)\n",
    "    def add_operations(self, operations):\n",
    "        self.operation.append('=')\n",
    "        for i in operations:\n",
    "            if i not in self.operation:\n",
    "                self.operation.append(i)\n",
    "    def add_equations(self, equation):\n",
    "        new_list = []\n",
    "        for i in self.equations:\n",
    "            new_list.append(i)\n",
    "        if len(equation)==1:\n",
    "            equation = [equation]\n",
    "        for i in equation:\n",
    "            if i not in self.equations: \n",
    "                new_list.append(i)\n",
    "        self.equations = new_list\n",
    "    def get_operations(self):\n",
    "        return self.operation[1:]\n",
    "    def get_equations(self):\n",
    "        return self.equations\n",
    "    def get_variables(self):\n",
    "        return self.variables\n",
    "    def remove_operation(self, operation):\n",
    "        self.new_list = []\n",
    "        for i in self.operation:\n",
    "            if i != operation:\n",
    "                self.new_list.append(i)\n",
    "        self.operation = self.new_list\n",
    "    def remove_variable(self, variable):\n",
    "        self.new_list = []\n",
    "        for i in self.variables:\n",
    "            if i != variable:\n",
    "                self.new_list.append(i)\n",
    "        self.variables = self.new_list\n",
    "        \n",
    "    def remove_equation(self, no = None, equation = None):\n",
    "        self.new_list = []\n",
    "        if no == None:\n",
    "            for i in self.equations:\n",
    "                if i != equation:\n",
    "                    self.new_list.append(i)\n",
    "            self.equations = self.new_list\n",
    "        else:\n",
    "            no  = int(no) -1\n",
    "            for i,l in enumerate(self.equations):\n",
    "                if no != i:\n",
    "                    self.new_list.append(l)\n",
    "            self.equations = self.new_list\n",
    "            \n",
    "    def find_index(self,a, x):\n",
    "        index = 0\n",
    "        for i in x[0]:\n",
    "            if i == a:\n",
    "                return index\n",
    "            else:\n",
    "                index += 1\n",
    "\n",
    "    def result(self):\n",
    "        print(\"Equations: \")\n",
    "        for i in self.equations:\n",
    "            print(i)\n",
    "        print(\"-----------------------\")\n",
    "        \n",
    "        print(\"Variables: \")\n",
    "        for i in self.variables:\n",
    "            print(i)\n",
    "        print(\"-----------------------\")\n",
    "        \n",
    "        print(\"Operations: \")\n",
    "        for i in self.operation[1:]:\n",
    "            print(i)\n",
    "        print(\"-----------------------\")  \n",
    "        \n",
    "        for i, c in enumerate(self.variables):\n",
    "            self.char2id[i] = c\n",
    "            \n",
    "        sy =[]\n",
    "        add_sy = ''\n",
    "        for i in self.variables:\n",
    "            add_sy += i+','\n",
    "        if len(self.variables)>1:\n",
    "            sy.append(sym.symbols(add_sy[:-1]))\n",
    "        else:\n",
    "            sy.append(sym.symbol(add_sy[:-1]))\n",
    "        \n",
    "        \n",
    "        order_var_1 = []\n",
    "        order_op_1 = []\n",
    "        coeff_1 = []\n",
    "        for i in self.equations:\n",
    "            order_var = []\n",
    "            order_op = []\n",
    "            coeff = []\n",
    "            eq = i[0]\n",
    "            count = 0\n",
    "            while(count < len(eq)):\n",
    "                t = ''\n",
    "                v = eq[count]\n",
    "                while(v not in self.operation):\n",
    "                    t += v\n",
    "                    count += 1\n",
    "                    if count < len(eq):\n",
    "                        v = eq[count]\n",
    "                    else:\n",
    "                        break  \n",
    "                count += 1\n",
    "#                 if not t.isdigit():\n",
    "#                     order_var.append(t)\n",
    "                try:\n",
    "                    t = int(t)\n",
    "                    t_new = str(t)\n",
    "                except:\n",
    "                    co = ''\n",
    "                    t_new = ''\n",
    "                    status = True\n",
    "                    for c in t:\n",
    "                        if c.isdigit() and status:\n",
    "                            co += c\n",
    "                            status = False\n",
    "                        else:\n",
    "                            t_new += c\n",
    "                            status = False\n",
    "                    if not co:\n",
    "                        co = '1'\n",
    "                    coeff.append(co)\n",
    "                \n",
    "                order_var.append(t_new)\n",
    "                \n",
    "                if v in self.operation:\n",
    "                    order_op.append(v)\n",
    "            coeff_1.append(coeff)    \n",
    "            order_var_1.append(order_var)\n",
    "            order_op_1.append(order_op)\n",
    "        print(order_var_1)\n",
    "        print()\n",
    "        print(order_op_1)\n",
    "        print()\n",
    "        print(coeff_1)\n",
    "        print('-------------------------------------')\n",
    "        print('Variable_created: ')\n",
    "        print(sy)\n",
    "        \n",
    "        \n",
    "        \n",
    "        # Add equation\n",
    "#         for var, op, coe in zip(order_var_1, order_op_1, coeff_1):        "
   ]
  },
  {
   "cell_type": "code",
   "execution_count": null,
   "metadata": {
    "collapsed": true
   },
   "outputs": [],
   "source": [
    "first = model(4)"
   ]
  },
  {
   "cell_type": "code",
   "execution_count": 758,
   "metadata": {
    "collapsed": true
   },
   "outputs": [],
   "source": [
    "first.add_operations(['+','-','*', '*'])"
   ]
  },
  {
   "cell_type": "code",
   "execution_count": 759,
   "metadata": {},
   "outputs": [
    {
     "name": "stdout",
     "output_type": "stream",
     "text": [
      "['X1', 'X2', 'Y1', 'Y2']\n",
      "['X1', 'X2', 'Y1', 'Y2']\n"
     ]
    }
   ],
   "source": [
    "first.add_variables(['X1', 'X2', 'Y1', 'Y2'])\n",
    "print(first.get_variables())\n",
    "first.remove_variable('Y2')\n",
    "first.add_variables(['Y2'])\n",
    "print(first.get_variables())"
   ]
  },
  {
   "cell_type": "code",
   "execution_count": 760,
   "metadata": {},
   "outputs": [
    {
     "name": "stdout",
     "output_type": "stream",
     "text": [
      "[['X1+Y1=8'], ['X2-Y2=6'], ['X1+X2=13'], ['Y1+Y2=8']]\n",
      "[['X1+Y1=8'], ['X2-Y2=6'], ['X1+X2=13']]\n",
      "[['X1+Y1=8'], ['X2-Y2=6'], ['X1+X2=13'], ['Y1+Y2=8']]\n",
      "[['X1+Y1=8'], ['X2-Y2=6'], ['X1+X2=13']]\n"
     ]
    }
   ],
   "source": [
    "first.add_equations([['X1+Y1=8'],['X2-Y2=6'],['X1+X2=13'],['Y1+Y2=8']])\n",
    "print(first.get_equations())\n",
    "first.remove_equation(no = 4)\n",
    "print(first.get_equations())\n",
    "first.add_equations(['Y1+Y2=8'])\n",
    "print(first.get_equations())\n",
    "first.remove_equation(equation =['Y1+Y2=8'])\n",
    "print(first.get_equations())"
   ]
  },
  {
   "cell_type": "code",
   "execution_count": 761,
   "metadata": {
    "collapsed": true
   },
   "outputs": [],
   "source": [
    "first.add_equations(['Y1+Y2=8'])"
   ]
  },
  {
   "cell_type": "code",
   "execution_count": 762,
   "metadata": {},
   "outputs": [
    {
     "data": {
      "text/plain": [
       "[['X1+Y1=8'], ['X2-Y2=6'], ['X1+X2=13'], ['Y1+Y2=8']]"
      ]
     },
     "execution_count": 762,
     "metadata": {},
     "output_type": "execute_result"
    }
   ],
   "source": [
    "first.get_equations()"
   ]
  },
  {
   "cell_type": "code",
   "execution_count": 763,
   "metadata": {},
   "outputs": [
    {
     "data": {
      "text/plain": [
       "['+', '-']"
      ]
     },
     "execution_count": 763,
     "metadata": {},
     "output_type": "execute_result"
    }
   ],
   "source": [
    "first.get_operations()\n",
    "first.remove_operation('*')\n",
    "first.get_operations()"
   ]
  },
  {
   "cell_type": "code",
   "execution_count": 764,
   "metadata": {},
   "outputs": [
    {
     "name": "stdout",
     "output_type": "stream",
     "text": [
      "Equations: \n",
      "['X1+Y1=8']\n",
      "['X2-Y2=6']\n",
      "['X1+X2=13']\n",
      "['Y1+Y2=8']\n",
      "-----------------------\n",
      "Variables: \n",
      "X1\n",
      "X2\n",
      "Y1\n",
      "Y2\n",
      "-----------------------\n",
      "Operations: \n",
      "+\n",
      "-\n",
      "-----------------------\n",
      "[['X1', 'Y1', '8'], ['X2', 'Y2', '6'], ['X1', 'X2', '13'], ['Y1', 'Y2', '8']]\n",
      "\n",
      "[['+', '='], ['-', '='], ['+', '='], ['+', '=']]\n",
      "\n",
      "[['1', '1'], ['1', '1'], ['1', '1'], ['1', '1']]\n",
      "-------------------------------------\n",
      "Variable_created: \n",
      "[(X1, X2, Y1, Y2)]\n"
     ]
    }
   ],
   "source": [
    "first.result()"
   ]
  },
  {
   "cell_type": "code",
   "execution_count": null,
   "metadata": {
    "collapsed": true
   },
   "outputs": [],
   "source": []
  },
  {
   "cell_type": "code",
   "execution_count": null,
   "metadata": {
    "collapsed": true
   },
   "outputs": [],
   "source": []
  },
  {
   "cell_type": "code",
   "execution_count": null,
   "metadata": {
    "collapsed": true
   },
   "outputs": [],
   "source": []
  },
  {
   "cell_type": "code",
   "execution_count": null,
   "metadata": {
    "collapsed": true
   },
   "outputs": [],
   "source": []
  },
  {
   "cell_type": "code",
   "execution_count": 1049,
   "metadata": {
    "collapsed": true
   },
   "outputs": [],
   "source": [
    "# sym.init_printing()\n",
    "# x,y,z = sym.symbols('x1,y2,z3')\n",
    "# c1 = sym.Symbol('c1')\n",
    "# f = sym.Eq(2*x**2+y+z,1)\n",
    "# g = sym.Eq(x+2*y+z,c1)\n",
    "# h = sym.Eq(-2*x+y,-z)\n",
    "\n",
    "# sym.solve([f,g,h],(x,y,z))"
   ]
  },
  {
   "cell_type": "code",
   "execution_count": 1048,
   "metadata": {
    "collapsed": true
   },
   "outputs": [],
   "source": [
    "# sym.init_printing()"
   ]
  },
  {
   "cell_type": "code",
   "execution_count": 4,
   "metadata": {
    "collapsed": true
   },
   "outputs": [],
   "source": [
    "import sympy as sym\n",
    "from sympy import sympify\n",
    "from sympy.parsing.sympy_parser import parse_expr\n",
    "class equation:\n",
    "    def __init__(self):\n",
    "        import sympy as sym\n",
    "        from sympy import sympify\n",
    "        from sympy.parsing.sympy_parser import parse_expr\n",
    "        sym.init_printing()\n",
    "        self.symbol = []\n",
    "        self.static = []\n",
    "        self.equation =[]\n",
    "    \n",
    "    def add_variable(self, string):\n",
    "        self.symbol.append(sym.symbols(string))\n",
    "    \n",
    "    def add_static_variable(self, string):\n",
    "        self.static.append(sym.Symbol(string))\n",
    "    \n",
    "    def add_equation(self, eq):\n",
    "        eq = eq.split('=')\n",
    "        a = parse_expr(eq[0], evaluate=False)\n",
    "        b = parse_expr(eq[1], evaluate=False)\n",
    "        self.equation.append(sym.Eq(a,b))\n",
    "        \n",
    "    def get_equation(self):\n",
    "        return self.equation\n",
    "    \n",
    "    def get_evaluate_variable(self):\n",
    "        return self.symbol\n",
    "    \n",
    "    def get_static_variable(self):\n",
    "        return self.static\n",
    "    \n",
    "    def get_all_variable(self):\n",
    "        all_var = {}\n",
    "        all_var['Static Variables'] = self.static\n",
    "        all_var['Evaluate Variables'] = self.symbol\n",
    "        return all_var\n",
    "    \n",
    "    def summary(self):\n",
    "        print('****************************************')\n",
    "        print()\n",
    "        print('Equations: ')\n",
    "        print('--------------------------------------')\n",
    "        for i in self.equation:\n",
    "            print(i)\n",
    "        print('--------------------------------------')\n",
    "        print()\n",
    "        print('Variables:')\n",
    "        if len(self.static)>0:\n",
    "            print('          Static Variables:')\n",
    "            for i in self.static:\n",
    "                print('                       {}'.format(i))\n",
    "        print('--------------------------------------')\n",
    "        print('          Evaluate Variables:')\n",
    "        for i in self.symbol:\n",
    "            print('                       {}'.format(i))\n",
    "        print('--------------------------------------')\n",
    "        print()\n",
    "        print('****************************************')\n",
    "        \n",
    "        \n",
    "        \n",
    "    def solution(self):\n",
    "        return sym.solve(self.equation, self.symbol[0], dict=True)"
   ]
  },
  {
   "cell_type": "code",
   "execution_count": null,
   "metadata": {
    "collapsed": true
   },
   "outputs": [],
   "source": []
  },
  {
   "cell_type": "code",
   "execution_count": 18,
   "metadata": {
    "collapsed": true
   },
   "outputs": [],
   "source": [
    "first = equation()"
   ]
  },
  {
   "cell_type": "code",
   "execution_count": null,
   "metadata": {},
   "outputs": [],
   "source": []
  },
  {
   "cell_type": "code",
   "execution_count": 19,
   "metadata": {
    "collapsed": true
   },
   "outputs": [],
   "source": [
    "first.add_variable('X1,X2,Y1,Y2')\n",
    "# first.add_static_variable('c1')"
   ]
  },
  {
   "cell_type": "code",
   "execution_count": 20,
   "metadata": {
    "collapsed": true
   },
   "outputs": [],
   "source": [
    "first.add_equation('X1+Y1=8')\n",
    "first.add_equation('X2-Y2=6')\n",
    "first.add_equation('X1+X2=13')\n",
    "first.add_equation('Y1+Y2=8')"
   ]
  },
  {
   "cell_type": "code",
   "execution_count": 21,
   "metadata": {},
   "outputs": [
    {
     "data": {
      "text/latex": [
       "$$\\left [ X_{1} + Y_{1} = 8, \\quad X_{2} - Y_{2} = 6, \\quad X_{1} + X_{2} = 13, \\quad Y_{1} + Y_{2} = 8\\right ]$$"
      ],
      "text/plain": [
       "[X₁ + Y₁ = 8, X₂ - Y₂ = 6, X₁ + X₂ = 13, Y₁ + Y₂ = 8]"
      ]
     },
     "execution_count": 21,
     "metadata": {},
     "output_type": "execute_result"
    }
   ],
   "source": [
    "first.get_equation()"
   ]
  },
  {
   "cell_type": "code",
   "execution_count": 22,
   "metadata": {},
   "outputs": [
    {
     "data": {
      "text/plain": [
       "{'Evaluate Variables': [(X1, X2, Y1, Y2)], 'Static Variables': []}"
      ]
     },
     "execution_count": 22,
     "metadata": {},
     "output_type": "execute_result"
    }
   ],
   "source": [
    "first.get_all_variable()"
   ]
  },
  {
   "cell_type": "code",
   "execution_count": 23,
   "metadata": {},
   "outputs": [
    {
     "data": {
      "text/latex": [
       "$$\\left [ \\right ]$$"
      ],
      "text/plain": [
       "[]"
      ]
     },
     "execution_count": 23,
     "metadata": {},
     "output_type": "execute_result"
    }
   ],
   "source": [
    "first.get_static_variable()"
   ]
  },
  {
   "cell_type": "code",
   "execution_count": 24,
   "metadata": {},
   "outputs": [
    {
     "data": {
      "text/latex": [
       "$$\\left [ \\left ( X_{1}, \\quad X_{2}, \\quad Y_{1}, \\quad Y_{2}\\right )\\right ]$$"
      ],
      "text/plain": [
       "[(X₁, X₂, Y₁, Y₂)]"
      ]
     },
     "execution_count": 24,
     "metadata": {},
     "output_type": "execute_result"
    }
   ],
   "source": [
    "first.get_evaluate_variable()"
   ]
  },
  {
   "cell_type": "code",
   "execution_count": 25,
   "metadata": {},
   "outputs": [
    {
     "name": "stdout",
     "output_type": "stream",
     "text": [
      "****************************************\n",
      "\n",
      "Equations: \n",
      "--------------------------------------\n",
      "Eq(X1 + Y1, 8)\n",
      "Eq(X2 - Y2, 6)\n",
      "Eq(X1 + X2, 13)\n",
      "Eq(Y1 + Y2, 8)\n",
      "--------------------------------------\n",
      "\n",
      "Variables:\n",
      "--------------------------------------\n",
      "          Evaluate Variables:\n",
      "                       (X1, X2, Y1, Y2)\n",
      "--------------------------------------\n",
      "\n",
      "****************************************\n"
     ]
    }
   ],
   "source": [
    "first.summary()"
   ]
  },
  {
   "cell_type": "code",
   "execution_count": 28,
   "metadata": {},
   "outputs": [
    {
     "data": {
      "text/latex": [
       "$$\\left [ \\left \\{ X_{1} : \\frac{7}{2}, \\quad X_{2} : \\frac{19}{2}, \\quad Y_{1} : \\frac{9}{2}, \\quad Y_{2} : \\frac{7}{2}\\right \\}\\right ]$$"
      ],
      "text/plain": [
       "[{X₁: 7/2, X₂: 19/2, Y₁: 9/2, Y₂: 7/2}]"
      ]
     },
     "execution_count": 28,
     "metadata": {},
     "output_type": "execute_result"
    }
   ],
   "source": [
    "first.solution()"
   ]
  },
  {
   "cell_type": "code",
   "execution_count": 26,
   "metadata": {},
   "outputs": [
    {
     "name": "stdout",
     "output_type": "stream",
     "text": [
      "[{X1: 7/2, X2: 19/2, Y1: 9/2, Y2: 7/2}]\n"
     ]
    }
   ],
   "source": [
    "a = first.solution()\n",
    "print(a)"
   ]
  },
  {
   "cell_type": "code",
   "execution_count": 1142,
   "metadata": {},
   "outputs": [
    {
     "name": "stdout",
     "output_type": "stream",
     "text": [
      "\n",
      "____      +      ____      =      8\n",
      "\n",
      " +                +\n",
      "\n",
      "____      -      ____      =      6\n",
      "\n",
      " ∥                 ∥\n",
      "\n",
      " 13                8\n",
      "\n"
     ]
    }
   ],
   "source": [
    "problem()"
   ]
  },
  {
   "cell_type": "code",
   "execution_count": 1124,
   "metadata": {},
   "outputs": [
    {
     "name": "stdout",
     "output_type": "stream",
     "text": [
      "\n",
      "7/2      +      9/2      =      8\n",
      "\n",
      " +               +\n",
      "\n",
      "19/2      -     7/2      =      6\n",
      "\n",
      " ∥               ∥\n",
      "\n",
      "13               8\n",
      "\n"
     ]
    }
   ],
   "source": [
    "visualize(a)"
   ]
  },
  {
   "cell_type": "code",
   "execution_count": 1123,
   "metadata": {
    "collapsed": true
   },
   "outputs": [],
   "source": [
    "def visualize(a):\n",
    "    l = []\n",
    "    for i in a[0]:\n",
    "        l.append(a[0][i]) \n",
    "    print()\n",
    "    print(str(l[0])+'      +      '+str(l[2])+'      =      '+str(8))\n",
    "    print()\n",
    "    print(' +               +')\n",
    "    print()\n",
    "    print(str(l[1])+'      -     '+str(l[3])+'      =      '+str(6))\n",
    "    print()\n",
    "    print(' ∥               ∥')\n",
    "    print()\n",
    "    print(str(13)+'               '+str(8))\n",
    "    print()\n"
   ]
  },
  {
   "cell_type": "code",
   "execution_count": 1141,
   "metadata": {
    "collapsed": true
   },
   "outputs": [],
   "source": [
    "def problem():\n",
    "    print()\n",
    "    print('____'+'      +      '+'____'+'      =      '+str(8))\n",
    "    print()\n",
    "    print(' +                +')\n",
    "    print()\n",
    "    print('____'+'      -      '+'____'+'      =      '+str(6))\n",
    "    print()\n",
    "    print(' ∥                 ∥')\n",
    "    print()\n",
    "    print(' '+str(13)+'                '+str(8))\n",
    "    print()\n"
   ]
  },
  {
   "cell_type": "code",
   "execution_count": 1042,
   "metadata": {
    "collapsed": true
   },
   "outputs": [],
   "source": [
    "second = equation()"
   ]
  },
  {
   "cell_type": "code",
   "execution_count": 1043,
   "metadata": {
    "collapsed": true
   },
   "outputs": [],
   "source": [
    "second.add_equation('2*x1+x2=8')\n",
    "second.add_equation('3*x1+x2=9')"
   ]
  },
  {
   "cell_type": "code",
   "execution_count": 1044,
   "metadata": {
    "collapsed": true
   },
   "outputs": [],
   "source": [
    "second.add_variable('x1,x2')"
   ]
  },
  {
   "cell_type": "code",
   "execution_count": 1045,
   "metadata": {},
   "outputs": [
    {
     "name": "stdout",
     "output_type": "stream",
     "text": [
      "****************************************\n",
      "\n",
      "Equations: \n",
      "Eq(2*x1 + x2, 8)\n",
      "Eq(3*x1 + x2, 9)\n",
      "--------------------------------------\n",
      "\n",
      "Variables:\n",
      "--------------------------------------\n",
      "          Evaluate Variables:\n",
      "                       (x1, x2)\n",
      "--------------------------------------\n",
      "\n",
      "****************************************\n"
     ]
    }
   ],
   "source": [
    "second.summary()"
   ]
  },
  {
   "cell_type": "code",
   "execution_count": 1046,
   "metadata": {},
   "outputs": [
    {
     "data": {
      "image/png": "[encoded data removed]",
      "text/latex": [
       "$$\\left [ \\left ( x_{1}, \\quad x_{2}\\right )\\right ]$$"
      ],
      "text/plain": [
       "[(x₁, x₂)]"
      ]
     },
     "execution_count": 1046,
     "metadata": {},
     "output_type": "execute_result"
    }
   ],
   "source": [
    "second.get_evaluate_variable()"
   ]
  },
  {
   "cell_type": "code",
   "execution_count": 1047,
   "metadata": {},
   "outputs": [
    {
     "data": {
      "image/png": "[encoded data removed]",
      "text/latex": [
       "$$\\left [ \\left \\{ x_{1} : 1, \\quad x_{2} : 6\\right \\}\\right ]$$"
      ],
      "text/plain": [
       "[{x₁: 1, x₂: 6}]"
      ]
     },
     "execution_count": 1047,
     "metadata": {},
     "output_type": "execute_result"
    }
   ],
   "source": [
    "second.solution()"
   ]
  },
  {
   "cell_type": "code",
   "execution_count": 2,
   "metadata": {},
   "outputs": [
    {
     "name": "stdout",
     "output_type": "stream",
     "text": [
      "sjdfn\n"
     ]
    }
   ],
   "source": [
    "x = ''\n",
    "if not x:\n",
    "    print('sjdfn')"
   ]
  },
  {
   "cell_type": "code",
   "execution_count": null,
   "metadata": {},
   "outputs": [],
   "source": []
  },
  {
   "cell_type": "code",
   "execution_count": 43,
   "metadata": {},
   "outputs": [
    {
     "data": {
      "text/plain": [
       "['x1+x2=8', 'x2+d5=2', 's2+ds5=1']"
      ]
     },
     "execution_count": 43,
     "metadata": {},
     "output_type": "execute_result"
    }
   ],
   "source": [
    "a = 'x1+x2=8, x2+d5=2, s2+ds5=1'\n",
    "a = a.replace(\" \", '')\n",
    "a = a.split(\",\")\n",
    "a"
   ]
  },
  {
   "cell_type": "code",
   "execution_count": 38,
   "metadata": {},
   "outputs": [
    {
     "data": {
      "text/plain": [
       "['x1+x2=8', 'x2+d5=2', 's2+ds5=1']"
      ]
     },
     "execution_count": 38,
     "metadata": {},
     "output_type": "execute_result"
    }
   ],
   "source": [
    "a.split(',')"
   ]
  },
  {
   "cell_type": "code",
   "execution_count": null,
   "metadata": {
    "collapsed": true
   },
   "outputs": [],
   "source": []
  }
 ],
 "metadata": {
  "kernelspec": {
   "display_name": "Python 3",
   "language": "python",
   "name": "python3"
  }
 },
 "nbformat": 4,
 "nbformat_minor": 2
}
